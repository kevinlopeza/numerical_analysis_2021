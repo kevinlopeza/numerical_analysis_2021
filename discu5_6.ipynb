{
 "cells": [
  {
   "cell_type": "markdown",
   "id": "sufficient-entertainment",
   "metadata": {},
   "source": [
    "# Interpolación de Lagrange"
   ]
  },
  {
   "cell_type": "code",
   "execution_count": 1,
   "id": "electoral-layer",
   "metadata": {},
   "outputs": [],
   "source": [
    "from sympy import Symbol, Rational\n",
    "from math import exp, cos, sin"
   ]
  },
  {
   "cell_type": "markdown",
   "id": "dangerous-medicare",
   "metadata": {},
   "source": [
    "Declaramos nuestras variables simbólicas:"
   ]
  },
  {
   "cell_type": "code",
   "execution_count": 2,
   "id": "pretty-waters",
   "metadata": {},
   "outputs": [],
   "source": [
    "x = Symbol('x')\n",
    "y = Symbol('y')"
   ]
  },
  {
   "cell_type": "markdown",
   "id": "configured-polls",
   "metadata": {},
   "source": [
    "Un ejemplo:"
   ]
  },
  {
   "cell_type": "code",
   "execution_count": 3,
   "id": "interested-while",
   "metadata": {},
   "outputs": [
    {
     "data": {
      "text/latex": [
       "$\\displaystyle x^{4} + 4 x^{3} y + 6 x^{2} y^{2} + 4 x y^{3} + y^{4}$"
      ],
      "text/plain": [
       "x**4 + 4*x**3*y + 6*x**2*y**2 + 4*x*y**3 + y**4"
      ]
     },
     "execution_count": 3,
     "metadata": {},
     "output_type": "execute_result"
    }
   ],
   "source": [
    "e = (x + y)**4\n",
    "e.expand()"
   ]
  },
  {
   "cell_type": "code",
   "execution_count": 4,
   "id": "suitable-talent",
   "metadata": {},
   "outputs": [],
   "source": [
    "'''\n",
    "Esta función calcula una expresión para\n",
    "el polinomio interpolante de Lagrange, \n",
    "usando la variable simbólica x.\n",
    "n:  grado del polinomio\n",
    "xs: arreglo con coordenadas en x\n",
    "ys: arreglo con coordenadas en y\n",
    "'''\n",
    "def lagrangePol(n, xs, ys):\n",
    "    p = 0\n",
    "    for k in range(0, n+1):\n",
    "        p += ys[k] * lagrangeL(n, xs, k)\n",
    "    return p    \n",
    "'''\n",
    "Esta función calcula los productos en cada\n",
    "sumando de la fórmula de interpolación de \n",
    "Lagrange, que en clase se suelen denotar \n",
    "por L_{n, k}\n",
    "n:  grado del polinomio de Lagrange\n",
    "xs: arreglo con valores de x\n",
    "k:  la k en L_{n, k}, el índice del nodo\n",
    "    que nos vamos a saltar\n",
    "'''\n",
    "def lagrangeL(n, xs, k):\n",
    "    L = 1\n",
    "    for i in range(0, n+1):\n",
    "        if (i != k):\n",
    "            L *=(x - xs[i] )/(xs[k] - xs[i])\n",
    "    return L    \n",
    "        "
   ]
  },
  {
   "cell_type": "markdown",
   "id": "interim-message",
   "metadata": {},
   "source": [
    "$\\textbf{Ejercicio:}$ Calcular el polinomio de Lagrange que pasa por $(0, 1), (-1, 2), (1, 2)$."
   ]
  },
  {
   "cell_type": "code",
   "execution_count": 7,
   "id": "split-relative",
   "metadata": {},
   "outputs": [
    {
     "data": {
      "text/latex": [
       "$\\displaystyle x^{2} + 1$"
      ],
      "text/plain": [
       "x**2 + 1"
      ]
     },
     "execution_count": 7,
     "metadata": {},
     "output_type": "execute_result"
    }
   ],
   "source": [
    "xs = [0, -1, 1]\n",
    "ys = [1, 2, 2]\n",
    "\n",
    "pol = lagrangePol(2, xs, ys)\n",
    "pol.expand()"
   ]
  },
  {
   "cell_type": "markdown",
   "id": "alone-proportion",
   "metadata": {},
   "source": [
    "Probamos evaluando $1$ en el polinomio calculado:"
   ]
  },
  {
   "cell_type": "code",
   "execution_count": 10,
   "id": "loaded-squad",
   "metadata": {},
   "outputs": [
    {
     "data": {
      "text/latex": [
       "$\\displaystyle 2$"
      ],
      "text/plain": [
       "2"
      ]
     },
     "execution_count": 10,
     "metadata": {},
     "output_type": "execute_result"
    }
   ],
   "source": [
    "pol.subs(x, 1)"
   ]
  },
  {
   "cell_type": "markdown",
   "id": "assigned-earth",
   "metadata": {},
   "source": [
    "$\\textbf{Ejercicio. }$Calcular el polinomio interpolante de Lagrange para la función $f(x) = x + e^{-x^2} \\cos(x)$ usando $x_{0} = -2, x_{1} = -1.5, x_{2} = -1$."
   ]
  },
  {
   "cell_type": "code",
   "execution_count": 12,
   "id": "premium-glucose",
   "metadata": {},
   "outputs": [
    {
     "data": {
      "text/latex": [
       "$\\displaystyle 0.352465645513244 x^{2} + 2.26378504206903 x + 1.1100855069022$"
      ],
      "text/plain": [
       "0.352465645513244*x**2 + 2.26378504206903*x + 1.1100855069022"
      ]
     },
     "execution_count": 12,
     "metadata": {},
     "output_type": "execute_result"
    }
   ],
   "source": [
    "def f(x):\n",
    "    return x + exp(-x**2)*cos(x)\n",
    "\n",
    "xs = [-2, -1.5, -1]\n",
    "ys = [f(-2), f(-1.5), f(-1)]\n",
    "\n",
    "pol = lagrangePol(2, xs, ys)\n",
    "pol.expand()"
   ]
  },
  {
   "cell_type": "code",
   "execution_count": 17,
   "id": "colonial-cable",
   "metadata": {},
   "outputs": [
    {
     "data": {
      "text/latex": [
       "$\\displaystyle -0.801233889653587$"
      ],
      "text/plain": [
       "-0.801233889653587"
      ]
     },
     "execution_count": 17,
     "metadata": {},
     "output_type": "execute_result"
    }
   ],
   "source": [
    "pol.subs(x, -1)"
   ]
  },
  {
   "cell_type": "code",
   "execution_count": 18,
   "id": "japanese-crown",
   "metadata": {},
   "outputs": [
    {
     "data": {
      "text/plain": [
       "-0.801233889653587"
      ]
     },
     "execution_count": 18,
     "metadata": {},
     "output_type": "execute_result"
    }
   ],
   "source": [
    "f(-1)"
   ]
  },
  {
   "cell_type": "markdown",
   "id": "continuing-metabolism",
   "metadata": {},
   "source": [
    "Close enough!"
   ]
  },
  {
   "cell_type": "markdown",
   "id": "ordered-cuisine",
   "metadata": {},
   "source": [
    "$\\textbf{Ejercicio. }$ Encontrar una fórmula para $1^4 + \\ldots + n^4$ sabiendo que el resultado es un polinomio de grado $5$."
   ]
  },
  {
   "cell_type": "code",
   "execution_count": 20,
   "id": "better-arizona",
   "metadata": {},
   "outputs": [
    {
     "data": {
      "text/latex": [
       "$\\displaystyle \\frac{x^{5}}{5} + \\frac{x^{4}}{2} + \\frac{x^{3}}{3} - \\frac{x}{30}$"
      ],
      "text/plain": [
       "x**5/5 + x**4/2 + x**3/3 - x/30"
      ]
     },
     "execution_count": 20,
     "metadata": {},
     "output_type": "execute_result"
    }
   ],
   "source": [
    "xs = [1, 2, 3, 4, 5, 6]\n",
    "ys = [1, 17, 98, 354, 979, 2275]\n",
    "\n",
    "pol = lagrangePol(5, xs, ys)\n",
    "pol.expand()"
   ]
  },
  {
   "cell_type": "markdown",
   "id": "indie-worry",
   "metadata": {},
   "source": [
    "$\\textbf{Ejercicio. }$ Encontrar el polinomio interpolante de Lagrange para la función $f(x) = \\cos(x) + \\sin(x)$ usando $x_{0} = 0, x_{1} = 0.25, x_{2} = 0.5, x_{3} = 1$.  "
   ]
  },
  {
   "cell_type": "code",
   "execution_count": 5,
   "id": "offensive-particle",
   "metadata": {},
   "outputs": [
    {
     "data": {
      "text/latex": [
       "$\\displaystyle - 0.0793180388535406 x^{3} - 0.545508762345924 x^{2} + 1.0066000918755 x + 1.0$"
      ],
      "text/plain": [
       "-0.0793180388535406*x**3 - 0.545508762345924*x**2 + 1.0066000918755*x + 1.0"
      ]
     },
     "execution_count": 5,
     "metadata": {},
     "output_type": "execute_result"
    }
   ],
   "source": [
    "def f(z):\n",
    "    return cos(z) + sin(z)\n",
    "\n",
    "xs = [0, 0.25, 0.5, 1]\n",
    "ys = [f(0), f(0.25), f(0.5), f(1)]\n",
    "\n",
    "p3 = lagrangePol(3, xs, ys)\n",
    "p3.expand()"
   ]
  },
  {
   "cell_type": "markdown",
   "id": "peaceful-wonder",
   "metadata": {},
   "source": [
    "$\\textbf{Ejercicio. }$ Sea $ P_{3}(x) $ el polinomio de interpolación para los datos $ (0,0), (0.5, y), (1, 3) $ y $ (2, 2) $. Encuentre $ y $ si el coeficiente de $ x^{3} $ en $ P_{3}(x) $ es 6.\n",
    "\n",
    "Vamos a usar $\\texttt{Rational}$ para que los resultados de las operaciones queden expresados como fracciones, cuando sea posible."
   ]
  },
  {
   "cell_type": "code",
   "execution_count": 8,
   "id": "hungarian-patch",
   "metadata": {},
   "outputs": [
    {
     "data": {
      "text/latex": [
       "$\\displaystyle \\frac{8 x^{3} y}{3} - \\frac{16 x^{3}}{3} - 8 x^{2} y + 14 x^{2} + \\frac{16 x y}{3} - \\frac{17 x}{3}$"
      ],
      "text/plain": [
       "8*x**3*y/3 - 16*x**3/3 - 8*x**2*y + 14*x**2 + 16*x*y/3 - 17*x/3"
      ]
     },
     "execution_count": 8,
     "metadata": {},
     "output_type": "execute_result"
    }
   ],
   "source": [
    "xs = [Rational('0'), Rational('0.5'), Rational('1'), Rational('2')]\n",
    "ys = [Rational('0'), y, Rational('3'), Rational('2')]\n",
    "\n",
    "p = lagrangePol(3, xs, ys)\n",
    "p.expand()"
   ]
  },
  {
   "cell_type": "markdown",
   "id": "superior-exercise",
   "metadata": {},
   "source": [
    "Así, vemos que el coeficiente de $x^{3}$ es $ \\frac{8}{3} y - \\frac{16}{3}$. Haciendo esta expresión igual a $6$ y resolviendo para $y$, concluimos el problema. "
   ]
  },
  {
   "cell_type": "code",
   "execution_count": 5,
   "id": "published-wright",
   "metadata": {},
   "outputs": [
    {
     "data": {
      "text/latex": [
       "$\\displaystyle \\frac{5473 x^{5}}{6000000} - \\frac{2159051 x^{4}}{240000} + \\frac{53232647 x^{3}}{1500} - \\frac{167996760373 x^{2}}{2400} + \\frac{13806712457809 x}{200} - 27232574341668$"
      ],
      "text/plain": [
       "5473*x**5/6000000 - 2159051*x**4/240000 + 53232647*x**3/1500 - 167996760373*x**2/2400 + 13806712457809*x/200 - 27232574341668"
      ]
     },
     "execution_count": 5,
     "metadata": {},
     "output_type": "execute_result"
    }
   ],
   "source": [
    "xs = [1950, 1960, 1970, 1980, 1990, 2000]\n",
    "ys = [151326, 179323, 203302, 226542, 249633, 281422]\n",
    "\n",
    "p = lagrangePol(5, xs, ys)\n",
    "p.expand()"
   ]
  },
  {
   "cell_type": "code",
   "execution_count": 10,
   "id": "resident-dinner",
   "metadata": {},
   "outputs": [
    {
     "data": {
      "text/latex": [
       "$\\displaystyle 513443.0$"
      ],
      "text/plain": [
       "513443.000000000"
      ]
     },
     "execution_count": 10,
     "metadata": {},
     "output_type": "execute_result"
    }
   ],
   "source": [
    "p.subs(x, 2020).evalf()"
   ]
  },
  {
   "cell_type": "code",
   "execution_count": 15,
   "id": "tamil-avenue",
   "metadata": {},
   "outputs": [
    {
     "data": {
      "text/latex": [
       "$\\displaystyle 0.132439976317965 - 0.609920401012322 x$"
      ],
      "text/plain": [
       "0.132439976317965 - 0.609920401012322*x"
      ]
     },
     "execution_count": 15,
     "metadata": {},
     "output_type": "execute_result"
    }
   ],
   "source": [
    "from numpy import cbrt\n",
    "\n",
    "def f(z):\n",
    "    return (1 - z)**(1./3.)\n",
    "\n",
    "xs = [1.25, 1.6]\n",
    "xs2 = [1 - 1.25, 1-1.6]\n",
    "ys = cbrt(xs2)\n",
    "\n",
    "pol = lagrangePol(1, xs, ys)\n",
    "pol.expand()\n"
   ]
  },
  {
   "cell_type": "code",
   "execution_count": 18,
   "id": "minimal-malpractice",
   "metadata": {},
   "outputs": [
    {
     "data": {
      "text/latex": [
       "$\\displaystyle -0.843432665301749$"
      ],
      "text/plain": [
       "-0.843432665301749"
      ]
     },
     "execution_count": 18,
     "metadata": {},
     "output_type": "execute_result"
    }
   ],
   "source": [
    "pol.subs(x, 1.6)"
   ]
  },
  {
   "cell_type": "code",
   "execution_count": 16,
   "id": "thousand-brass",
   "metadata": {},
   "outputs": [
    {
     "name": "stdout",
     "output_type": "stream",
     "text": [
      "[-0.62996052 -0.84343267]\n"
     ]
    }
   ],
   "source": [
    "print(ys)"
   ]
  },
  {
   "cell_type": "code",
   "execution_count": null,
   "id": "conventional-showcase",
   "metadata": {},
   "outputs": [],
   "source": []
  }
 ],
 "metadata": {
  "kernelspec": {
   "display_name": "Python 3",
   "language": "python",
   "name": "python3"
  },
  "language_info": {
   "codemirror_mode": {
    "name": "ipython",
    "version": 3
   },
   "file_extension": ".py",
   "mimetype": "text/x-python",
   "name": "python",
   "nbconvert_exporter": "python",
   "pygments_lexer": "ipython3",
   "version": "3.9.3"
  }
 },
 "nbformat": 4,
 "nbformat_minor": 5
}
