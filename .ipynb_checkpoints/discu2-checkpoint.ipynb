{
 "cells": [
  {
   "cell_type": "markdown",
   "metadata": {},
   "source": [
    "# Discusión 2\n",
    "## Método de punto fijo"
   ]
  },
  {
   "cell_type": "code",
   "execution_count": 2,
   "metadata": {},
   "outputs": [],
   "source": [
    "from math import cos, log, exp\n",
    "import matplotlib.pyplot as plt\n",
    "import numpy as np"
   ]
  },
  {
   "cell_type": "code",
   "execution_count": 1,
   "metadata": {},
   "outputs": [],
   "source": [
    "'''\n",
    "g: función con un único punto fijo\n",
    "p0: aproximación inicial del punto fijo\n",
    "TOL: precisión deseada\n",
    "Nmax: número máximo de iteraciones\n",
    "'''\n",
    "def fixedPoint(g, p0, TOL, Nmax):\n",
    "    for i in range(0, Nmax):\n",
    "        p = g(p0)\n",
    "        print( \"{0:d} \\t {1:.15f} \\t {2:.15f} \\t {3:.5e} \".format(i, p0, p, abs(p0-p)) )\n",
    "        if abs(p - p0) < TOL:\n",
    "            break\n",
    "        p0 = p    "
   ]
  },
  {
   "cell_type": "markdown",
   "metadata": {},
   "source": [
    "Ejemplo: aproximando el punto fijo de $\\cos(x)$ en el intervalo $[0.5, 1]$."
   ]
  },
  {
   "cell_type": "code",
   "execution_count": 4,
   "metadata": {},
   "outputs": [
    {
     "name": "stdout",
     "output_type": "stream",
     "text": [
      "0 \t 0.500000000000000 \t 0.877582561890373 \t 3.77583e-01 \n",
      "1 \t 0.877582561890373 \t 0.639012494165259 \t 2.38570e-01 \n",
      "2 \t 0.639012494165259 \t 0.802685100682335 \t 1.63673e-01 \n",
      "3 \t 0.802685100682335 \t 0.694778026788006 \t 1.07907e-01 \n",
      "4 \t 0.694778026788006 \t 0.768195831282016 \t 7.34178e-02 \n",
      "5 \t 0.768195831282016 \t 0.719165445942419 \t 4.90304e-02 \n",
      "6 \t 0.719165445942419 \t 0.752355759421527 \t 3.31903e-02 \n",
      "7 \t 0.752355759421527 \t 0.730081063137823 \t 2.22747e-02 \n",
      "8 \t 0.730081063137823 \t 0.745120341351440 \t 1.50393e-02 \n",
      "9 \t 0.745120341351440 \t 0.735006309014843 \t 1.01140e-02 \n",
      "10 \t 0.735006309014843 \t 0.741826522643246 \t 6.82021e-03 \n",
      "11 \t 0.741826522643246 \t 0.737235725442231 \t 4.59080e-03 \n",
      "12 \t 0.737235725442231 \t 0.740329651878263 \t 3.09393e-03 \n",
      "13 \t 0.740329651878263 \t 0.738246238332233 \t 2.08341e-03 \n",
      "14 \t 0.738246238332233 \t 0.739649962769661 \t 1.40372e-03 \n",
      "15 \t 0.739649962769661 \t 0.738704539356983 \t 9.45423e-04 \n",
      "16 \t 0.738704539356983 \t 0.739341452281210 \t 6.36913e-04 \n",
      "17 \t 0.739341452281210 \t 0.738912449332103 \t 4.29003e-04 \n",
      "18 \t 0.738912449332103 \t 0.739201444135799 \t 2.88995e-04 \n",
      "19 \t 0.739201444135799 \t 0.739006779780813 \t 1.94664e-04 \n",
      "20 \t 0.739006779780813 \t 0.739137910762293 \t 1.31131e-04 \n",
      "21 \t 0.739137910762293 \t 0.739049580595209 \t 8.83302e-05 \n",
      "22 \t 0.739049580595209 \t 0.739109081420527 \t 5.95008e-05 \n",
      "23 \t 0.739109081420527 \t 0.739069001204012 \t 4.00802e-05 \n",
      "24 \t 0.739069001204012 \t 0.739095999835755 \t 2.69986e-05 \n",
      "25 \t 0.739095999835755 \t 0.739077813285175 \t 1.81866e-05 \n",
      "26 \t 0.739077813285175 \t 0.739090063988251 \t 1.22507e-05 \n",
      "27 \t 0.739090063988251 \t 0.739081811778109 \t 8.25221e-06 \n",
      "28 \t 0.739081811778109 \t 0.739087370571036 \t 5.55879e-06 \n",
      "29 \t 0.739087370571036 \t 0.739083626103480 \t 3.74447e-06 \n",
      "30 \t 0.739083626103480 \t 0.739086148422879 \t 2.52232e-06 \n",
      "31 \t 0.739086148422879 \t 0.739084449358649 \t 1.69906e-06 \n",
      "32 \t 0.739084449358649 \t 0.739085593868961 \t 1.14451e-06 \n",
      "33 \t 0.739085593868961 \t 0.739084822913141 \t 7.70956e-07 \n"
     ]
    }
   ],
   "source": [
    "fixedPoint(lambda x: cos(x), 0.5, 10**-6, 1000)"
   ]
  },
  {
   "cell_type": "markdown",
   "metadata": {},
   "source": [
    "# Problema del parcial 1 - 2019\n",
    "\n",
    "La ecuación que debemos resolver es \n",
    "$$ 5 = 10 - 20 ( e^{-0.2x} - e^{-0.75x} ) .$$\n",
    "\n",
    "Despejando $x$ de la primera exponencial:\n",
    "\n",
    "$$ \\frac{1}{4} = e^{-0.2x} - e^{-0.75x} $$\n",
    "$$  e^{-0.75x} + 1/4 = e^{-0.2x} $$\n",
    "$$ \\ln( e^{-0.75x} + 1/4 ) = -0.2x $$\n",
    "$$ -5\\ln( e^{-0.75x} + 1/4 ) = x $$\n",
    "\n",
    "Así, \n",
    "\n",
    "$$ g_{1}(x) = -5\\ln ( e^{-0.75x} + 1/4)  $$\n",
    "\n",
    "Despejando la $x$, de la segunda exponencial, obtenemos la segunda candidata:\n",
    "\n",
    "$$ g_{2}(x) = - \\frac{4}{3} \\ln(e^{-0.2x} - 1/4) $$"
   ]
  },
  {
   "cell_type": "code",
   "execution_count": 9,
   "metadata": {},
   "outputs": [],
   "source": [
    "def g1(x):\n",
    "    return -5*log(exp(-0.75*x) + 1/4)\n",
    "\n",
    "def g2(x):\n",
    "    return (-4/3)*log(exp(-0.2*x) - 1/4)"
   ]
  },
  {
   "cell_type": "markdown",
   "metadata": {},
   "source": [
    "Ahora verificamos si $g_{1}$ cumple la primera de las dos condiciones:"
   ]
  },
  {
   "cell_type": "code",
   "execution_count": 7,
   "metadata": {},
   "outputs": [
    {
     "name": "stdout",
     "output_type": "stream",
     "text": [
      "False\n",
      "False\n"
     ]
    }
   ],
   "source": [
    "print( 0 - g1(0) < 0 )\n",
    "print( 2 - g1(2) > 0 )"
   ]
  },
  {
   "cell_type": "markdown",
   "metadata": {},
   "source": [
    "Queda descartada. Probemos con $g_{2}$:"
   ]
  },
  {
   "cell_type": "code",
   "execution_count": 10,
   "metadata": {},
   "outputs": [
    {
     "name": "stdout",
     "output_type": "stream",
     "text": [
      "True\n",
      "True\n"
     ]
    }
   ],
   "source": [
    "print( 0 - g2(0) < 0 )\n",
    "print( 2 - g2(2) > 0 )"
   ]
  },
  {
   "cell_type": "markdown",
   "metadata": {},
   "source": [
    "Así, podemos estar seguros que $g_{2}$ tiene un punto fijo. Ahora debemos verificar unicidad, comprobando que la derivada en valor absoluto no excede $1$ en el intervalo $[0, 2]$. La derivada de $g_{2}$ es \n",
    "\n",
    "$$ g_{2}'(x) = \\frac{4}{15} \\frac{ e^{-0.2x} }{ e^{-0.2x} - 1/4 } $$"
   ]
  },
  {
   "cell_type": "markdown",
   "metadata": {},
   "source": [
    "Al graficar esta función, notamos que es positiva en el intervalo $[0, 2]$, de manera que no necesitamos considerarla en valor absoluto, y que el máximo en ese intervalo se alcanza en $x=2$, ya que la función es creciente. El valor máximo de $g_{2}'$ no excede $1$, de modo que podemos garantizar la unicidad del punto fijo."
   ]
  },
  {
   "cell_type": "code",
   "execution_count": 4,
   "metadata": {},
   "outputs": [
    {
     "data": {
      "image/png": "[encoded data removed]",
      "text/plain": [
       "<Figure size 432x288 with 1 Axes>"
      ]
     },
     "metadata": {
      "needs_background": "light"
     },
     "output_type": "display_data"
    }
   ],
   "source": [
    "x = np.linspace(-1, 3, 100)\n",
    "y = (4/15)* ( np.exp(-0.2*x)/( np.exp(-0.2*x) - 1/4 ) )\n",
    "\n",
    "plt.plot(x,y, 'r')\n",
    "\n",
    "plt.show()"
   ]
  },
  {
   "cell_type": "code",
   "execution_count": 19,
   "metadata": {},
   "outputs": [
    {
     "name": "stdout",
     "output_type": "stream",
     "text": [
      "0 \t 1.000000000000000 \t 0.752464200042130 \t 2.47536e-01 \n",
      "1 \t 0.752464200042130 \t 0.658441383029192 \t 9.40228e-02 \n",
      "2 \t 0.658441383029192 \t 0.623232289267109 \t 3.52091e-02 \n",
      "3 \t 0.623232289267109 \t 0.610115609520910 \t 1.31167e-02 \n",
      "4 \t 0.610115609520910 \t 0.605238505643511 \t 4.87710e-03 \n",
      "5 \t 0.605238505643511 \t 0.603426363567249 \t 1.81214e-03 \n",
      "6 \t 0.603426363567249 \t 0.602753219143530 \t 6.73144e-04 \n",
      "7 \t 0.602753219143530 \t 0.602503195056863 \t 2.50024e-04 \n",
      "8 \t 0.602503195056863 \t 0.602410332701095 \t 9.28624e-05 \n",
      "9 \t 0.602410332701095 \t 0.602375842820175 \t 3.44899e-05 \n",
      "10 \t 0.602375842820175 \t 0.602363033044612 \t 1.28098e-05 \n",
      "11 \t 0.602363033044612 \t 0.602358275415977 \t 4.75763e-06 \n",
      "12 \t 0.602358275415977 \t 0.602356508404954 \t 1.76701e-06 \n",
      "13 \t 0.602356508404954 \t 0.602355852126922 \t 6.56278e-07 \n",
      "14 \t 0.602355852126922 \t 0.602355608381520 \t 2.43745e-07 \n",
      "15 \t 0.602355608381520 \t 0.602355517853091 \t 9.05284e-08 \n",
      "16 \t 0.602355517853091 \t 0.602355484230317 \t 3.36228e-08 \n",
      "17 \t 0.602355484230317 \t 0.602355471742628 \t 1.24877e-08 \n",
      "18 \t 0.602355471742628 \t 0.602355467104630 \t 4.63800e-09 \n",
      "19 \t 0.602355467104630 \t 0.602355465382051 \t 1.72258e-09 \n",
      "20 \t 0.602355465382051 \t 0.602355464742275 \t 6.39776e-10 \n",
      "21 \t 0.602355464742275 \t 0.602355464504659 \t 2.37616e-10 \n",
      "22 \t 0.602355464504659 \t 0.602355464416407 \t 8.82521e-11 \n",
      "23 \t 0.602355464416407 \t 0.602355464383630 \t 3.27773e-11 \n",
      "24 \t 0.602355464383630 \t 0.602355464371456 \t 1.21736e-11 \n",
      "25 \t 0.602355464371456 \t 0.602355464366935 \t 4.52127e-12 \n",
      "26 \t 0.602355464366935 \t 0.602355464365255 \t 1.67932e-12 \n",
      "27 \t 0.602355464365255 \t 0.602355464364631 \t 6.23834e-13 \n",
      "28 \t 0.602355464364631 \t 0.602355464364400 \t 2.31593e-13 \n",
      "29 \t 0.602355464364400 \t 0.602355464364314 \t 8.60423e-14 \n",
      "30 \t 0.602355464364314 \t 0.602355464364282 \t 3.18634e-14 \n",
      "31 \t 0.602355464364282 \t 0.602355464364270 \t 1.18794e-14 \n",
      "32 \t 0.602355464364270 \t 0.602355464364266 \t 4.44089e-15 \n",
      "33 \t 0.602355464364266 \t 0.602355464364264 \t 1.55431e-15 \n",
      "34 \t 0.602355464364264 \t 0.602355464364263 \t 7.77156e-16 \n"
     ]
    }
   ],
   "source": [
    "fixedPoint(g2, 1, 10**-15, 1000)"
   ]
  }
 ],
 "metadata": {
  "kernelspec": {
   "display_name": "Python 3",
   "language": "python",
   "name": "python3"
  },
  "language_info": {
   "codemirror_mode": {
    "name": "ipython",
    "version": 3
   },
   "file_extension": ".py",
   "mimetype": "text/x-python",
   "name": "python",
   "nbconvert_exporter": "python",
   "pygments_lexer": "ipython3",
   "version": "3.9.2"
  }
 },
 "nbformat": 4,
 "nbformat_minor": 4
}
