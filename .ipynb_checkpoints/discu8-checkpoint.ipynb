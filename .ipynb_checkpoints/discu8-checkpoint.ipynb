{
 "cells": [
  {
   "cell_type": "code",
   "execution_count": 31,
   "id": "accepting-jewel",
   "metadata": {},
   "outputs": [],
   "source": [
    "from sympy import Symbol, Matrix, integrate, linsolve, plot"
   ]
  },
  {
   "cell_type": "code",
   "execution_count": 2,
   "id": "national-mandate",
   "metadata": {},
   "outputs": [],
   "source": [
    "x = Symbol('x')"
   ]
  },
  {
   "cell_type": "markdown",
   "id": "formal-bundle",
   "metadata": {},
   "source": [
    "Calculando la aproximación de mínimos cuadrados para $f(x) = \\frac{1}{x + 2}$ en $[-1, 1]$:"
   ]
  },
  {
   "cell_type": "code",
   "execution_count": 28,
   "id": "severe-playing",
   "metadata": {},
   "outputs": [],
   "source": [
    "'''\n",
    "f: función a aproximar\n",
    "a: límite inferior de integración\n",
    "b: límite superior de integración\n",
    "n: grado del polinomio\n",
    "'''\n",
    "def lsPol(f, a, b, n):\n",
    "    #Construyendo la matriz de Hilbert\n",
    "    A = Matrix(n + 1, n + 1, lambda i, j: ( b**(i + j + 1) - a**(i + j + 1) )/(i + j + 1) )\n",
    "\n",
    "    #Construyendo el vector B\n",
    "    B = Matrix(n + 1, 1, lambda i, j: integrate( f * x**i, (x, a, b) ) )\n",
    "\n",
    "    #Resolviendo el sistema de ecuaciones lineales\n",
    "    c = linsolve((A, B))\n",
    "\n",
    "    pol = 0\n",
    "    for i in range(0, n + 1):\n",
    "        pol += c.args[0].args[i] * x**i\n",
    "    \n",
    "    return pol.evalf()\n",
    "    "
   ]
  },
  {
   "cell_type": "code",
   "execution_count": 29,
   "id": "vocational-interest",
   "metadata": {},
   "outputs": [],
   "source": [
    "f = 1/(x + 2)\n",
    "\n",
    "#Obteniendo el polinomio de grado 1\n",
    "pol1 = lsPol(f, -1, 1, 1)\n",
    "\n",
    "#Obteniendo el polinomio de grado 2\n",
    "pol4 = lsPol(f, -1, 1, 4)"
   ]
  },
  {
   "cell_type": "code",
   "execution_count": 34,
   "id": "imperial-situation",
   "metadata": {},
   "outputs": [
    {
     "data": {
      "image/png": "[encoded data removed]",
      "text/plain": [
       "<Figure size 432x288 with 1 Axes>"
      ]
     },
     "metadata": {
      "needs_background": "light"
     },
     "output_type": "display_data"
    }
   ],
   "source": [
    "pl = plot(f, pol1, pol4, xlim=[-1.5, 1.5], ylim=[0, 3], show=False)\n",
    "pl[0].line_color='r'\n",
    "pl[1].line_color='g'\n",
    "pl[2].line_color='b'\n",
    "pl.show()"
   ]
  },
  {
   "cell_type": "code",
   "execution_count": 40,
   "id": "alive-cemetery",
   "metadata": {},
   "outputs": [],
   "source": [
    "'''\n",
    "f: función a aproximar\n",
    "a: límite inferior de integración\n",
    "b: límite superior de integración\n",
    "n: grado del polinomio\n",
    "phi: lista con las funciones base a utilizar\n",
    "'''\n",
    "def lsPol(f, a, b, n, phi):\n",
    "    #Construyendo la matriz de coeficientes\n",
    "    A = Matrix(n + 1, n + 1, lambda i, j: integrate( phi[i] * phi[j] ,(x, a, b)) )\n",
    "\n",
    "    #Construyendo el vector B\n",
    "    B = Matrix(n + 1, 1, lambda i, j: integrate( f * phi[i], (x, a, b) ) )\n",
    "\n",
    "    #Resolviendo el sistema de ecuaciones lineales\n",
    "    c = linsolve((A, B))\n",
    "\n",
    "    pol = 0\n",
    "    for i in range(0, n + 1):\n",
    "        pol += c.args[0].args[i] * phi[i]\n",
    "    \n",
    "    return pol.evalf()\n",
    "    "
   ]
  },
  {
   "cell_type": "code",
   "execution_count": 41,
   "id": "artistic-weekend",
   "metadata": {},
   "outputs": [
    {
     "data": {
      "text/latex": [
       "$\\displaystyle - 0.0852446060479961 x^{3} + 0.158878453779764 x^{2} - 0.244690102375531 x + 0.4963466597408$"
      ],
      "text/plain": [
       "-0.0852446060479961*x**3 + 0.158878453779764*x**2 - 0.244690102375531*x + 0.4963466597408"
      ]
     },
     "execution_count": 41,
     "metadata": {},
     "output_type": "execute_result"
    }
   ],
   "source": [
    "legendrePols = [1, x, (1/2)*(3 * x**2 - 1), (1/2) * (5 * x **3 - 3 * x)]\n",
    "\n",
    "#Calculando el polinomio de grado 3 usando los polinomios de Legendre como funciones base\n",
    "pol3 = lsPol(f, -1, 1, 3, legendrePols)\n",
    "pol3"
   ]
  },
  {
   "cell_type": "code",
   "execution_count": 42,
   "id": "determined-opposition",
   "metadata": {},
   "outputs": [
    {
     "data": {
      "image/png": "[encoded data removed]",
      "text/plain": [
       "<Figure size 432x288 with 1 Axes>"
      ]
     },
     "metadata": {
      "needs_background": "light"
     },
     "output_type": "display_data"
    }
   ],
   "source": [
    "pl = plot(f, pol3, xlim=[-1.5, 1.5], ylim=[0, 3], show=False)\n",
    "pl[0].line_color='r'\n",
    "pl[1].line_color='g'\n",
    "pl.show()"
   ]
  },
  {
   "cell_type": "code",
   "execution_count": null,
   "id": "bottom-clerk",
   "metadata": {},
   "outputs": [],
   "source": []
  }
 ],
 "metadata": {
  "kernelspec": {
   "display_name": "Python 3",
   "language": "python",
   "name": "python3"
  },
  "language_info": {
   "codemirror_mode": {
    "name": "ipython",
    "version": 3
   },
   "file_extension": ".py",
   "mimetype": "text/x-python",
   "name": "python",
   "nbconvert_exporter": "python",
   "pygments_lexer": "ipython3",
   "version": "3.9.3"
  }
 },
 "nbformat": 4,
 "nbformat_minor": 5
}
