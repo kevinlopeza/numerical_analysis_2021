{
 "cells": [
  {
   "cell_type": "code",
   "execution_count": 1,
   "id": "empirical-orientation",
   "metadata": {},
   "outputs": [],
   "source": [
    "from sympy import symbols, Function, Rational"
   ]
  },
  {
   "cell_type": "code",
   "execution_count": 2,
   "id": "laughing-insertion",
   "metadata": {},
   "outputs": [],
   "source": [
    "x,h = symbols('x,h')\n",
    "f = Function('f')"
   ]
  },
  {
   "cell_type": "code",
   "execution_count": 3,
   "id": "southwest-tiffany",
   "metadata": {},
   "outputs": [],
   "source": [
    "def forward_diff(n):\n",
    "    if n == 0:\n",
    "        return f(x)\n",
    "    cache = [f(x)]\n",
    "    for i in range(1, n + 1):\n",
    "        cache.append( cache[i - 1].subs(x, x + h) - cache[i - 1] )\n",
    "    return cache[n]    "
   ]
  },
  {
   "cell_type": "code",
   "execution_count": 4,
   "id": "numerous-database",
   "metadata": {},
   "outputs": [
    {
     "data": {
      "text/latex": [
       "$\\displaystyle - f{\\left(x \\right)} + 3 f{\\left(h + x \\right)} - 3 f{\\left(2 h + x \\right)} + f{\\left(3 h + x \\right)}$"
      ],
      "text/plain": [
       "-f(x) + 3*f(h + x) - 3*f(2*h + x) + f(3*h + x)"
      ]
     },
     "execution_count": 4,
     "metadata": {},
     "output_type": "execute_result"
    }
   ],
   "source": [
    "forward_diff(3)"
   ]
  },
  {
   "cell_type": "code",
   "execution_count": 8,
   "id": "alert-refund",
   "metadata": {},
   "outputs": [],
   "source": [
    "def central_diff(n):\n",
    "    if n == 0:\n",
    "        return f(x)\n",
    "    cache = [f(x)]\n",
    "    for i in range(1, n + 1):\n",
    "        cache.append( cache[i - 1].subs(x, x + Rational('1/2')*h) - cache[i - 1].subs(x, x-Rational('1/2')*h) )\n",
    "    return cache[n]"
   ]
  },
  {
   "cell_type": "code",
   "execution_count": 9,
   "id": "21e52e8b",
   "metadata": {},
   "outputs": [
    {
     "data": {
      "text/latex": [
       "$\\displaystyle - f{\\left(- \\frac{3 h}{2} + x \\right)} + 3 f{\\left(- \\frac{h}{2} + x \\right)} - 3 f{\\left(\\frac{h}{2} + x \\right)} + f{\\left(\\frac{3 h}{2} + x \\right)}$"
      ],
      "text/plain": [
       "-f(-3*h/2 + x) + 3*f(-h/2 + x) - 3*f(h/2 + x) + f(3*h/2 + x)"
      ]
     },
     "execution_count": 9,
     "metadata": {},
     "output_type": "execute_result"
    }
   ],
   "source": [
    "central_diff(3)"
   ]
  },
  {
   "cell_type": "code",
   "execution_count": null,
   "id": "5fc5fbc0",
   "metadata": {},
   "outputs": [],
   "source": []
  }
 ],
 "metadata": {
  "kernelspec": {
   "display_name": "Python 3",
   "language": "python",
   "name": "python3"
  },
  "language_info": {
   "codemirror_mode": {
    "name": "ipython",
    "version": 3
   },
   "file_extension": ".py",
   "mimetype": "text/x-python",
   "name": "python",
   "nbconvert_exporter": "python",
   "pygments_lexer": "ipython3",
   "version": "3.9.5"
  }
 },
 "nbformat": 4,
 "nbformat_minor": 5
}
