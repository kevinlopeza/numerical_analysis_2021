{
 "cells": [
  {
   "cell_type": "markdown",
   "metadata": {},
   "source": [
    "# Discusión 1\n",
    "## Método de bisección\n",
    "\n"
   ]
  },
  {
   "cell_type": "markdown",
   "metadata": {},
   "source": [
    "### Cosas que usamos del módulo $\\texttt{math}$"
   ]
  },
  {
   "cell_type": "code",
   "execution_count": 17,
   "metadata": {},
   "outputs": [],
   "source": [
    "from math import cos, ceil, log, sqrt"
   ]
  },
  {
   "cell_type": "markdown",
   "metadata": {},
   "source": [
    "### Primer problema"
   ]
  },
  {
   "cell_type": "markdown",
   "metadata": {},
   "source": [
    "Se nos pide demostrar que existe una única solución de la ecuación $x = \\cos(x)$ en el intervalo $[0, 1]$. Esto es equivalente a demostrar que existe una única solución de la ecuación $\\cos(x) - x = 0$ en ese mismo intervalo. De esa manera, tenemos un problema de búsqueda de raíces: si consideramos la función $f_{1}(x) = \\cos(x) - x$, buscamos su raíz en $[0, 1]$, aunque... ¿cómo sabemos que existe una raíz en ese intervalo y que es única?"
   ]
  },
  {
   "cell_type": "code",
   "execution_count": 2,
   "metadata": {},
   "outputs": [],
   "source": [
    "def f1(x):\n",
    "    return cos(x) - x"
   ]
  },
  {
   "cell_type": "markdown",
   "metadata": {},
   "source": [
    "Notemos que esta función es continua, ya que $\\cos(x)$ y $x$ son funciones continuas, y las sumas/restas y productos de funciones continuas también son continuas. Además:"
   ]
  },
  {
   "cell_type": "code",
   "execution_count": 23,
   "metadata": {},
   "outputs": [
    {
     "name": "stdout",
     "output_type": "stream",
     "text": [
      "1.0\n",
      "-0.45969769413186023\n"
     ]
    }
   ],
   "source": [
    "print(f1(0))\n",
    "print(f1(1))"
   ]
  },
  {
   "cell_type": "markdown",
   "metadata": {},
   "source": [
    "¡Ajá! Hay cambio de signo y la función es continua. Entonces, en virtud del teorema de valor intermedio, sabemos que existe una raíz en el intervalo $[0, 1]$.\n",
    "\n",
    "Ahora demostremos que la raíz es única. Si no recuerdan muy bien el teorema de Rolle, les invito a revisarlo en el documento de preliminares matemáticos, disponible en la Unidad 1. \n",
    "\n",
    "Procedemos por contradicción. Supongamos que existen dos raíces $p_{1}$ y $p_{2}$ de $f_{1}$ en $[0, 1]$. Entonces, $f_{1}(p_{1}) =  f_{1}(p_{2}) = 0$. Notamos que nuestra función, $f_{1}$, es derivable con derivada $f_{1}'(x) = -\\sin(x) - 1$. Por el teorema de Rolle, entonces, debe existir un número $c$ entre $p_{1}$ y $p_{2}$, y por tanto en $[0, 1]$, tal que $f'(c) = 0$.\n",
    "Así, obtenemos que $c$ está en $[0, 1]$ y que $-\\sin(c) - 1= 0$, es decir,\n",
    "$$ \\sin(c) = -1. $$\n",
    "Esto es absurdo, porque $\\sin(x) \\geq 0$ para todo $x$ en $[0, 1]$ (ver una gráfica). Así, inferimos una contradicción de la suposición que $f_{1}$ tiene más de una raíz, de modo que solo debe poseer una.                 $\\square$\n",
    "\n",
    "Ahora programemos el algoritmo 1."
   ]
  },
  {
   "cell_type": "code",
   "execution_count": 24,
   "metadata": {},
   "outputs": [],
   "source": [
    "'''\n",
    "f: función para el método de bisección\n",
    "a: extremo izquierdo del intervalo\n",
    "b: extremo derecho del intervalo\n",
    "TOL: tolerancia o precisión deseada\n",
    "Nmax: número máximo de iteraciones\n",
    "'''\n",
    "def bisection1(f, a, b, TOL, Nmax):\n",
    "    for i in range(0, Nmax):\n",
    "        p = (a + b)/2\n",
    "        \n",
    "        print( str(i) + \" \\t \" + str(p) + \" \\t \" + str(f(p))  )\n",
    "        \n",
    "        if ( f(p) == 0 or (b-a)/2 < TOL):\n",
    "            break\n",
    "        elif ( f(a)*f(p) < 0 ):\n",
    "            b = p\n",
    "        else:\n",
    "            a = p\n",
    "                "
   ]
  },
  {
   "cell_type": "markdown",
   "metadata": {},
   "source": [
    "Lo invocamos con los datos del problema. "
   ]
  },
  {
   "cell_type": "code",
   "execution_count": 26,
   "metadata": {},
   "outputs": [
    {
     "name": "stdout",
     "output_type": "stream",
     "text": [
      "0 \t 0.5 \t 0.37758256189037276\n",
      "1 \t 0.75 \t -0.018311131126179103\n",
      "2 \t 0.625 \t 0.18596311950521793\n",
      "3 \t 0.6875 \t 0.0853349461524715\n",
      "4 \t 0.71875 \t 0.03387937241806649\n",
      "5 \t 0.734375 \t 0.00787472545850132\n",
      "6 \t 0.7421875 \t -0.005195711743759213\n",
      "7 \t 0.73828125 \t 0.001345149751805108\n",
      "8 \t 0.740234375 \t -0.001923872780897673\n",
      "9 \t 0.7392578125 \t -0.0002890091467900868\n",
      "10 \t 0.73876953125 \t 0.0005281584336581657\n",
      "11 \t 0.739013671875 \t 0.00011959667132188656\n",
      "12 \t 0.7391357421875 \t -8.470073137478717e-05\n",
      "13 \t 0.73907470703125 \t 1.7449346639941687e-05\n",
      "14 \t 0.739105224609375 \t -3.362534821038654e-05\n",
      "15 \t 0.7390899658203125 \t -8.087914744714375e-06\n",
      "16 \t 0.7390823364257812 \t 4.680737457851691e-06\n",
      "17 \t 0.7390861511230469 \t -1.7035832658995886e-06\n",
      "18 \t 0.7390842437744141 \t 1.488578440400623e-06\n",
      "19 \t 0.7390851974487305 \t -1.0750207668497325e-07\n"
     ]
    }
   ],
   "source": [
    "bisection1(f1, 0, 1, 10**-6, 100000)"
   ]
  },
  {
   "cell_type": "markdown",
   "metadata": {},
   "source": [
    "Listo. $20$ iteraciones. Como verán más adelante con otros métodos, we can do better. \n",
    "\n",
    "Programemos el algoritmo $2$."
   ]
  },
  {
   "cell_type": "code",
   "execution_count": 15,
   "metadata": {},
   "outputs": [],
   "source": [
    "'''\n",
    "f: función para el método de bisección\n",
    "a: extremo izquierdo\n",
    "b: extremo derecho\n",
    "TOL: tolerancia\n",
    "'''\n",
    "def bisection2(f, a, b, TOL):\n",
    "    n = ceil( log( (b-a)/TOL , 2 ) ) #Aquí calculo las iteraciones requeridas\n",
    "    for i in range(0, n):\n",
    "        p = (a + b)/2\n",
    "        print( str(i) + \" \\t \" + str(p) + \" \\t \" + str(f(p))  )\n",
    "        if( f(a)*f(p) < 0 ):\n",
    "            b = p\n",
    "        else:\n",
    "            a = p"
   ]
  },
  {
   "cell_type": "code",
   "execution_count": 16,
   "metadata": {},
   "outputs": [
    {
     "name": "stdout",
     "output_type": "stream",
     "text": [
      "0 \t 0.5 \t 0.37758256189037276\n",
      "1 \t 0.75 \t -0.018311131126179103\n",
      "2 \t 0.625 \t 0.18596311950521793\n",
      "3 \t 0.6875 \t 0.0853349461524715\n",
      "4 \t 0.71875 \t 0.03387937241806649\n",
      "5 \t 0.734375 \t 0.00787472545850132\n",
      "6 \t 0.7421875 \t -0.005195711743759213\n",
      "7 \t 0.73828125 \t 0.001345149751805108\n",
      "8 \t 0.740234375 \t -0.001923872780897673\n",
      "9 \t 0.7392578125 \t -0.0002890091467900868\n",
      "10 \t 0.73876953125 \t 0.0005281584336581657\n",
      "11 \t 0.739013671875 \t 0.00011959667132188656\n",
      "12 \t 0.7391357421875 \t -8.470073137478717e-05\n",
      "13 \t 0.73907470703125 \t 1.7449346639941687e-05\n",
      "14 \t 0.739105224609375 \t -3.362534821038654e-05\n",
      "15 \t 0.7390899658203125 \t -8.087914744714375e-06\n",
      "16 \t 0.7390823364257812 \t 4.680737457851691e-06\n",
      "17 \t 0.7390861511230469 \t -1.7035832658995886e-06\n",
      "18 \t 0.7390842437744141 \t 1.488578440400623e-06\n",
      "19 \t 0.7390851974487305 \t -1.0750207668497325e-07\n"
     ]
    }
   ],
   "source": [
    "bisection2(f1, 0, 1, 10**-6)"
   ]
  },
  {
   "cell_type": "markdown",
   "metadata": {},
   "source": [
    "### Segundo problema "
   ]
  },
  {
   "cell_type": "code",
   "execution_count": 18,
   "metadata": {},
   "outputs": [],
   "source": [
    "Re = 10**4\n",
    "\n",
    "def f2(x):\n",
    "    return -0.4 + 1.74*log(Re*sqrt(x)) - sqrt(1/x)"
   ]
  },
  {
   "cell_type": "code",
   "execution_count": 21,
   "metadata": {},
   "outputs": [
    {
     "name": "stdout",
     "output_type": "stream",
     "text": [
      "0 \t 0.0075 \t -0.1777946013966467\n",
      "1 \t 0.00875 \t 0.8128721973486073\n",
      "2 \t 0.008125 \t 0.344844013567263\n",
      "3 \t 0.0078125 \t 0.09101741864372848\n",
      "4 \t 0.00765625 \t -0.041421866309180544\n",
      "5 \t 0.007734375 \t 0.025277253136721356\n",
      "6 \t 0.0076953125 \t -0.007950945331794301\n",
      "7 \t 0.00771484375 \t 0.00869330567140203\n",
      "8 \t 0.0077050781250000006 \t 0.0003787415508345049\n",
      "9 \t 0.0077001953125 \t -0.0037842086041166567\n",
      "10 \t 0.00770263671875 \t -0.001702260573193115\n",
      "11 \t 0.007703857421875 \t -0.0006616413187927606\n",
      "12 \t 0.0077044677734375 \t -0.0001414203416256754\n",
      "13 \t 0.007704772949218751 \t 0.00011866798947401946\n",
      "14 \t 0.007704620361328126 \t -1.1374329767832592e-05\n",
      "15 \t 0.007704696655273438 \t 5.364729141987823e-05\n",
      "16 \t 0.007704658508300782 \t 2.1136596219051285e-05\n",
      "17 \t 0.0077046394348144545 \t 4.881162073644418e-06\n",
      "18 \t 0.00770462989807129 \t -3.2465766341971403e-06\n",
      "19 \t 0.007704634666442872 \t 8.172945236140094e-07\n",
      "20 \t 0.007704632282257082 \t -1.2146406049851066e-06\n",
      "21 \t 0.007704633474349977 \t -1.9867293055142454e-07\n",
      "22 \t 0.007704634070396425 \t 3.093108258411803e-07\n",
      "23 \t 0.007704633772373201 \t 5.531895652666208e-08\n",
      "24 \t 0.007704633623361589 \t -7.167698434784597e-08\n",
      "25 \t 0.007704633697867395 \t -8.179013022413528e-09\n",
      "26 \t 0.007704633735120298 \t 2.3569970863945855e-08\n",
      "27 \t 0.007704633716493846 \t 7.695478032587744e-09\n",
      "28 \t 0.00770463370718062 \t -2.417674949128923e-10\n",
      "29 \t 0.007704633711837233 \t 3.726855268837426e-09\n",
      "30 \t 0.007704633709508926 \t 1.7425421106054273e-09\n",
      "31 \t 0.007704633708344773 \t 7.503881960246872e-10\n",
      "32 \t 0.007704633707762696 \t 2.5431035055589746e-10\n",
      "33 \t 0.007704633707471658 \t 6.270539643082884e-12\n",
      "34 \t 0.007704633707326139 \t -1.177493658133244e-10\n",
      "35 \t 0.007704633707398899 \t -5.573674854986166e-11\n",
      "36 \t 0.0077046337074352786 \t -2.4733992631809087e-11\n",
      "37 \t 0.007704633707453468 \t -9.231726494363102e-12\n",
      "38 \t 0.007704633707462563 \t -1.4797052472204086e-12\n",
      "39 \t 0.007704633707467111 \t 2.3945290195115376e-12\n",
      "40 \t 0.007704633707464837 \t 4.583000645652646e-13\n",
      "41 \t 0.0077046337074637 \t -5.115907697472721e-13\n",
      "42 \t 0.007704633707464268 \t -2.6645352591003757e-14\n",
      "43 \t 0.007704633707464553 \t 2.149391775674303e-13\n",
      "44 \t 0.007704633707464411 \t 9.414691248821327e-14\n",
      "45 \t 0.0077046337074643395 \t 3.197442310920451e-14\n",
      "46 \t 0.007704633707464304 \t 3.552713678800501e-15\n",
      "47 \t 0.007704633707464286 \t -1.0658141036401503e-14\n",
      "48 \t 0.007704633707464294 \t -3.552713678800501e-15\n",
      "49 \t 0.0077046337074643 \t 0.0\n",
      "50 \t 0.007704633707464301 \t 1.7763568394002505e-15\n",
      "51 \t 0.007704633707464303 \t 3.552713678800501e-15\n",
      "52 \t 0.007704633707464303 \t 3.552713678800501e-15\n",
      "53 \t 0.007704633707464303 \t 3.552713678800501e-15\n",
      "54 \t 0.007704633707464303 \t 3.552713678800501e-15\n",
      "55 \t 0.007704633707464303 \t 3.552713678800501e-15\n",
      "56 \t 0.007704633707464303 \t 3.552713678800501e-15\n",
      "57 \t 0.007704633707464303 \t 3.552713678800501e-15\n",
      "58 \t 0.007704633707464303 \t 3.552713678800501e-15\n"
     ]
    }
   ],
   "source": [
    "bisection2(f2, 0.005, 0.01, 10**-20)"
   ]
  }
 ],
 "metadata": {
  "kernelspec": {
   "display_name": "Python 3",
   "language": "python",
   "name": "python3"
  },
  "language_info": {
   "codemirror_mode": {
    "name": "ipython",
    "version": 3
   },
   "file_extension": ".py",
   "mimetype": "text/x-python",
   "name": "python",
   "nbconvert_exporter": "python",
   "pygments_lexer": "ipython3",
   "version": "3.9.2"
  }
 },
 "nbformat": 4,
 "nbformat_minor": 4
}
